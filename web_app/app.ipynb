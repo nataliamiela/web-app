{
 "cells": [
  {
   "cell_type": "markdown",
   "id": "623c73e5",
   "metadata": {},
   "source": [
    "## Yoga Bookings Web Application built on Flask"
   ]
  },
  {
   "cell_type": "markdown",
   "id": "8905a4bf",
   "metadata": {},
   "source": [
    "first one needs to install Flask via prompt typing: \n",
    "pip install flask\n",
    "\n"
   ]
  },
  {
   "cell_type": "code",
   "execution_count": 1,
   "id": "473c97c5",
   "metadata": {},
   "outputs": [],
   "source": [
    "# importing the libraries needed\n",
    "\n",
    "from flask import Flask, render_template, request, session, redirect, url_for\n",
    "import sqlite3"
   ]
  },
  {
   "cell_type": "markdown",
   "id": "a444d615",
   "metadata": {},
   "source": [
    "Further we provide screen sample slides with\n",
    "SQL queries functions described. There will be\n",
    "six pages/tabs:\n",
    "- log in/register\n",
    "- my profile\n",
    "- classes\n",
    "- schedule\n",
    "- instructors\n",
    "- workout history"
   ]
  },
  {
   "cell_type": "markdown",
   "id": "b2479424",
   "metadata": {},
   "source": [
    "### Defining dunctions \n",
    "\n",
    "First we define the functions necessary for logging in and registering new members. \n",
    "Those are: `check_member` and `register_member`."
   ]
  },
  {
   "cell_type": "code",
   "execution_count": 2,
   "id": "e3882215",
   "metadata": {},
   "outputs": [],
   "source": [
    "\n",
    "# Create a function which checks the credentials \n",
    "def check_member(email, password):\n",
    "    conn = sqlite3.connect('yoga.db')\n",
    "    c = conn.cursor()\n",
    "    c.execute('Select email, password FROM Members WHERE email=? and password=?', (email, password))\n",
    "        \n",
    "    result = c.fetchone()\n",
    "    if result: \n",
    "        return True\n",
    "    else: \n",
    "        return False\n",
    "    \n",
    "    conn.commit()\n",
    "    conn.close()\n",
    "    \n",
    "#### Function for registering new members \n",
    "\n",
    "def register_member(member_details):\n",
    "    conn = sqlite3.connect('yoga.db')\n",
    "    c = conn.cursor()\n",
    "    sql_string = 'INSERT INTO Members (name, surname, email, year_of_birth, membership, password) VALUES (?,?,?,?,?,?)'\n",
    "    c.execute(sql_string, member_details)\n",
    "    conn.commit()\n",
    "    conn.close()\n"
   ]
  },
  {
   "cell_type": "markdown",
   "id": "c5f74e05",
   "metadata": {},
   "source": [
    "### Initiating the app\n",
    "\n",
    "The Flask object from the flask package initiates the app."
   ]
  },
  {
   "cell_type": "code",
   "execution_count": 3,
   "id": "503a5de1",
   "metadata": {},
   "outputs": [],
   "source": [
    "# first the app object is created \n",
    "\n",
    "app = Flask(__name__)\n",
    "app.secret_key = 'gatvshbeybbsk'\n",
    "\n",
    "# Next we start creating the subpages of the webapp: \n",
    "# The first page shall contain the registration form for new members\n"
   ]
  },
  {
   "cell_type": "markdown",
   "id": "16f19e83",
   "metadata": {},
   "source": [
    "Next we start defining the subpages of the web application. "
   ]
  },
  {
   "cell_type": "code",
   "execution_count": 4,
   "id": "58ade728",
   "metadata": {},
   "outputs": [],
   "source": [
    "\n",
    "# Define the home page\n",
    "@app.route('/')\n",
    "def index():\n",
    "    return render_template('login.html')\n"
   ]
  },
  {
   "cell_type": "code",
   "execution_count": 5,
   "id": "6a6d1253",
   "metadata": {},
   "outputs": [],
   "source": [
    "### Registration page \n",
    " \n",
    "@app.route('/register', methods=['GET', 'POST'])\n",
    "def register():\n",
    "    if request.method == \"POST\":\n",
    "        member_details = (\n",
    "        request.form['name'], \n",
    "        request.form['surname'],\n",
    "        request.form['email'], \n",
    "        request.form['year_of_birth'], \n",
    "        request.form['membership'], \n",
    "        request.form['password'])\n",
    "        \n",
    "        register_member(member_details)\n",
    "        return redirect(url_for('login'))\n",
    "    \n",
    "    else: \n",
    "        return render_template('register.html')"
   ]
  },
  {
   "cell_type": "code",
   "execution_count": 6,
   "id": "9e356ee2",
   "metadata": {},
   "outputs": [],
   "source": [
    "   \n",
    "### Login page \n",
    "@app.route('/login', methods = ['GET', 'POST'])\n",
    "def login():\n",
    "    if request.method == 'POST':\n",
    "        \n",
    "        session.permanent = True \n",
    "        # To simplify, the email will be the username \n",
    "        user = request.form['email']\n",
    "        password = request.form['password']\n",
    "        print(check_member(user, password))\n",
    "        if check_member(user, password):\n",
    "            session['user'] = user    \n",
    "        return redirect(url_for('profile'))\n",
    "    \n",
    "    else:\n",
    "        if 'user' in session: \n",
    "            return redirect(url_for('index'))\n",
    "        \n",
    "        return render_template('login.html')"
   ]
  },
  {
   "cell_type": "code",
   "execution_count": 7,
   "id": "b9ed5c1b",
   "metadata": {},
   "outputs": [],
   "source": [
    "            \n",
    "### My profile page       \n",
    "\n",
    "def update_plan(user, new_plan): \n",
    "    conn = sqlite3.connect('yoga.db')\n",
    "    c = conn.cursor()\n",
    "    c.execute('UPDATE Members SET membership=? WHERE email=?', (new_plan, user))\n",
    "    conn.commit()\n",
    "    conn.close()\n",
    "    \n",
    "###\n",
    "\n",
    "\n",
    "@app.route('/profile', methods=['GET', 'POST'])\n",
    "def profile():\n",
    "    if request.method == 'POST':\n",
    "        user = str(session['user'])\n",
    "        new_plan = request.form['new_plan']\n",
    "        update_plan(user, new_plan)\n",
    "        return 'The plan is successfully updated'\n",
    "    else:\n",
    "        return render_template('profile.html')   \n",
    "   "
   ]
  },
  {
   "cell_type": "code",
   "execution_count": null,
   "id": "e52579a8",
   "metadata": {},
   "outputs": [
    {
     "name": "stdout",
     "output_type": "stream",
     "text": [
      " * Serving Flask app \"__main__\" (lazy loading)\n",
      " * Environment: production\n",
      "\u001b[31m   WARNING: This is a development server. Do not use it in a production deployment.\u001b[0m\n",
      "\u001b[2m   Use a production WSGI server instead.\u001b[0m\n",
      " * Debug mode: off\n"
     ]
    },
    {
     "name": "stderr",
     "output_type": "stream",
     "text": [
      " * Running on http://localhost:5000/ (Press CTRL+C to quit)\n",
      "127.0.0.1 - - [30/Dec/2022 17:38:06] \"GET / HTTP/1.1\" 200 -\n",
      "127.0.0.1 - - [30/Dec/2022 17:38:15] \"POST /login HTTP/1.1\" 302 -\n",
      "127.0.0.1 - - [30/Dec/2022 17:38:15] \"GET /profile HTTP/1.1\" 200 -\n"
     ]
    },
    {
     "name": "stdout",
     "output_type": "stream",
     "text": [
      "True\n"
     ]
    },
    {
     "name": "stderr",
     "output_type": "stream",
     "text": [
      "127.0.0.1 - - [30/Dec/2022 17:38:20] \"POST /profile HTTP/1.1\" 200 -\n",
      "127.0.0.1 - - [30/Dec/2022 17:38:44] \"GET /profile HTTP/1.1\" 200 -\n",
      "127.0.0.1 - - [30/Dec/2022 17:39:58] \"GET /profile HTTP/1.1\" 200 -\n",
      "127.0.0.1 - - [30/Dec/2022 17:46:21] \"GET /profile HTTP/1.1\" 200 -\n"
     ]
    }
   ],
   "source": [
    "if __name__ == '__main__':\n",
    "    app.run(host='localhost', port=5000, debug=False)"
   ]
  },
  {
   "cell_type": "markdown",
   "id": "193d3586",
   "metadata": {},
   "source": []
  }
 ],
 "metadata": {
  "kernelspec": {
   "display_name": "Python 3 (ipykernel)",
   "language": "python",
   "name": "python3"
  },
  "language_info": {
   "codemirror_mode": {
    "name": "ipython",
    "version": 3
   },
   "file_extension": ".py",
   "mimetype": "text/x-python",
   "name": "python",
   "nbconvert_exporter": "python",
   "pygments_lexer": "ipython3",
   "version": "3.9.13"
  }
 },
 "nbformat": 4,
 "nbformat_minor": 5
}
