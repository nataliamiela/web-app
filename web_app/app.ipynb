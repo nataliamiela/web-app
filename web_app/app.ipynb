{
 "cells": [
  {
   "cell_type": "markdown",
   "metadata": {},
   "source": [
    "## Yoga Bookings Web Application built on Flask"
   ]
  },
  {
   "cell_type": "markdown",
   "metadata": {},
   "source": [
    "first one needs to install Flask via prompt typing: \n",
    "pip install flask\n",
    "\n"
   ]
  },
  {
   "cell_type": "code",
   "execution_count": 1,
   "metadata": {},
   "outputs": [],
   "source": [
    "# Importing the libraries needed\n",
    "\n",
    "from flask import Flask, render_template, request, session, redirect, url_for\n",
    "import sqlite3\n",
    "import numpy as np"
   ]
  },
  {
   "cell_type": "markdown",
   "metadata": {},
   "source": [
    "Further we provide screen sample slides with\n",
    "SQL queries functions described. There will be\n",
    "six pages/tabs:\n",
    "- `log in/register`\n",
    "- `my profile`\n",
    "- `classes`\n",
    "- `schedule`\n",
    "- `instructors`\n",
    "- `workout history`"
   ]
  },
  {
   "cell_type": "markdown",
   "metadata": {},
   "source": [
    "### Initiating the app\n",
    "\n",
    "The Flask object from the flask package initiates the app."
   ]
  },
  {
   "cell_type": "code",
   "execution_count": 2,
   "metadata": {},
   "outputs": [],
   "source": [
    "# first the app object is created \n",
    "\n",
    "app = Flask(__name__)\n",
    "app.secret_key = 'gatvshbeybbsk'\n",
    "\n",
    "# Next we start creating the subpages of the webapp: \n",
    "# The first page shall contain the registration form for new members\n"
   ]
  },
  {
   "cell_type": "markdown",
   "metadata": {},
   "source": [
    "## Tab 1: Login & Register\n",
    "### Functions & SQL queries\n",
    "\n",
    "First we define the functions necessary for logging in and registering new members. \n",
    "Those are: `check_member` and `register_member`."
   ]
  },
  {
   "cell_type": "markdown",
   "metadata": {},
   "source": [
    "***CHECK MEMBER***"
   ]
  },
  {
   "cell_type": "code",
   "execution_count": 3,
   "metadata": {},
   "outputs": [],
   "source": [
    "# Function which checks the credentials \n",
    "\n",
    "def check_member(email, password):\n",
    "    conn = sqlite3.connect('yoga.db')\n",
    "    c = conn.cursor()\n",
    "    c.execute('Select member_email, password FROM Members WHERE member_email=? and password=?', (email, password))\n",
    "        \n",
    "    result = c.fetchone()\n",
    "    if result: \n",
    "        return True\n",
    "    else: \n",
    "        return False\n",
    "    \n",
    "    conn.commit()\n",
    "    conn.close()"
   ]
  },
  {
   "cell_type": "markdown",
   "metadata": {},
   "source": [
    "***REGISTER MEMBER***"
   ]
  },
  {
   "cell_type": "code",
   "execution_count": 4,
   "metadata": {},
   "outputs": [],
   "source": [
    "# Function for registering new members \n",
    "\n",
    "def register_member(member_details):\n",
    "    conn = sqlite3.connect('yoga.db')\n",
    "    c = conn.cursor()\n",
    "    sql_string = 'INSERT INTO Members (member_name, member_surname, member_email, year_of_birth, membership, password) VALUES (?,?,?,?,?,?)'\n",
    "    c.execute(sql_string, member_details)\n",
    "    conn.commit()\n",
    "    conn.close()"
   ]
  },
  {
   "cell_type": "markdown",
   "metadata": {},
   "source": [
    "### Page setup"
   ]
  },
  {
   "cell_type": "code",
   "execution_count": 5,
   "metadata": {},
   "outputs": [],
   "source": [
    "# Define the home page\n",
    "\n",
    "@app.route('/')\n",
    "def index():\n",
    "    return render_template('login.html')\n"
   ]
  },
  {
   "cell_type": "code",
   "execution_count": 6,
   "metadata": {},
   "outputs": [],
   "source": [
    "# Registration page \n",
    " \n",
    "@app.route('/register', methods=['GET', 'POST'])\n",
    "def register():\n",
    "    if request.method == \"POST\":\n",
    "        member_details = (\n",
    "        request.form['member_name'], \n",
    "        request.form['member_surname'],\n",
    "        request.form['member_email'], \n",
    "        request.form['year_of_birth'], \n",
    "        request.form['membership'], \n",
    "        request.form['password'])\n",
    "        \n",
    "        register_member(member_details)\n",
    "        return redirect(url_for('login'))\n",
    "    \n",
    "    else: \n",
    "        return render_template('register.html')"
   ]
  },
  {
   "cell_type": "code",
   "execution_count": 7,
   "metadata": {},
   "outputs": [],
   "source": [
    "# Login page \n",
    "\n",
    "@app.route('/login', methods = ['GET', 'POST'])\n",
    "def login():\n",
    "    if request.method == 'POST':\n",
    "        \n",
    "        session.permanent = True \n",
    "        # To simplify, the email will be the username \n",
    "        user = request.form['member_email']\n",
    "        password = request.form['password']\n",
    "        print(check_member(user, password))\n",
    "        if check_member(user, password):\n",
    "            session['user'] = user    \n",
    "        return redirect(url_for('profile'))\n",
    "    \n",
    "    else:\n",
    "        if 'user' in session: \n",
    "            return redirect(url_for('index'))\n",
    "        \n",
    "        return render_template('login.html')"
   ]
  },
  {
   "cell_type": "markdown",
   "metadata": {},
   "source": [
    "## Tab 2: My profile\n",
    "### Functions & SQL queries\n",
    "\n",
    "\n",
    "First we need to define a few functions wrapping into them the sql queries needed to operate for each functionality of the page."
   ]
  },
  {
   "cell_type": "markdown",
   "metadata": {},
   "source": [
    "In `My profile` tab the user should be able to: \n",
    "\n",
    "- check put his/her membership plan\n",
    "- update membership plan\n",
    "- view class reservations\n",
    "- cancel class reservations\n",
    "\n",
    "Now we want to create a function which will contain the sql query."
   ]
  },
  {
   "cell_type": "markdown",
   "metadata": {},
   "source": [
    "***CHECK MEMBERSHIP***"
   ]
  },
  {
   "cell_type": "code",
   "execution_count": 8,
   "metadata": {},
   "outputs": [],
   "source": [
    "# code here\n",
    "def check_plan(user): \n",
    "    conn = sqlite3.connect('yoga.db')\n",
    "    c = conn.cursor()\n",
    "    c.execute('''\n",
    "    CREATE VIEW IF NOT EXISTS member_plan\n",
    "    AS\n",
    "    SELECT\n",
    "    id_member, \n",
    "    membership, \n",
    "    Memberships.membership_name AS name\n",
    "    FROM \n",
    "    Members\n",
    "    INNER JOIN Memberships ON Members.membership=Memberships.id_membership\n",
    "    ''')\n",
    "    c.execute('''\n",
    "    SELECT name FROM member_plan WHERE (SELECT id_member FROM Members WHERE member_email=?)=id_member\n",
    "    ''', [user])\n",
    "    plan = c.fetchone()\n",
    "    return plan\n",
    "    conn.commit()\n",
    "    conn.close()"
   ]
  },
  {
   "cell_type": "code",
   "execution_count": 9,
   "metadata": {},
   "outputs": [],
   "source": [
    "# plan = check_plan('oliviakul@gmail.com')"
   ]
  },
  {
   "cell_type": "markdown",
   "metadata": {},
   "source": [
    "***UPDATE PLAN***"
   ]
  },
  {
   "cell_type": "code",
   "execution_count": 10,
   "metadata": {},
   "outputs": [],
   "source": [
    "def update_plan(user, new_plan):\n",
    "    conn = sqlite3.connect('yoga.db')\n",
    "    c = conn.cursor()\n",
    "    c.execute('UPDATE Members SET membership=? WHERE member_email=?', (new_plan, user))\n",
    "    conn.commit()\n",
    "    conn.close()"
   ]
  },
  {
   "cell_type": "code",
   "execution_count": 11,
   "metadata": {},
   "outputs": [],
   "source": [
    "# sample to check : update_plan('oliviakul@gmail.com', 3)"
   ]
  },
  {
   "cell_type": "markdown",
   "metadata": {},
   "source": [
    "***VIEW RESERVATIONS***"
   ]
  },
  {
   "cell_type": "code",
   "execution_count": 12,
   "metadata": {},
   "outputs": [],
   "source": [
    "def view_reservation(): \n",
    "    user = str(session['user'])\n",
    "    conn = sqlite3.connect('yoga.db')\n",
    "    c = conn.cursor()               \n",
    "    query = '''\n",
    "    SELECT \n",
    "        id_member AS Member,\n",
    "        id_reservation AS ReservationID, \n",
    "        date_hour AS Time, \n",
    "        class_name AS Class, \n",
    "        instructor_name AS InstructorName, \n",
    "        instructor_surname AS InstructorSurname, \n",
    "        status AS RegistrationStatus\n",
    "    FROM Reservations r \n",
    "    INNER JOIN Schedule s\n",
    "    ON r.class_key=s.class_key\n",
    "    INNER JOIN Classes c\n",
    "    ON c.id_class=s.id_class\n",
    "    INNER JOIN Instructors i \n",
    "    ON s.id_instructor=i.id_instructor\n",
    "    WHERE r.id_member=(SELECT id_member FROM Members WHERE member_email = ?)\n",
    "    '''\n",
    "    c.execute(query, [user])\n",
    "    reservation_data = c.fetchall()\n",
    "    return reservation_data\n",
    "    conn.commit()\n",
    "    conn.close()"
   ]
  },
  {
   "cell_type": "markdown",
   "metadata": {},
   "source": [
    "***CANCEL RESERVATION***"
   ]
  },
  {
   "cell_type": "markdown",
   "metadata": {},
   "source": [
    "When the reservation is cancelled, the following changes are up: \n",
    "- `Reservations.status` changes to `cancelled`\n",
    "- in `Schedule` fields `available` and `enrolled` are corrected"
   ]
  },
  {
   "cell_type": "code",
   "execution_count": 13,
   "metadata": {},
   "outputs": [],
   "source": [
    "# as id_resrvation in Reservations is primary key, it will be enough to pass only it as an argument \n",
    "\n",
    "def cancel_reserv(id_reservation):\n",
    "    \n",
    "    conn = sqlite3.connect('yoga.db')\n",
    "    c = conn.cursor()\n",
    "    trigger = '''CREATE TRIGGER IF NOT EXISTS cancel_reservation AFTER UPDATE OF status\n",
    "    ON Reservations\n",
    "    WHEN old.status <> new.status\n",
    "    BEGIN \n",
    "    UPDATE Schedule SET enrolled = enrolled - 1 WHERE (SELECT class_key FROM Reservations)= (SELECT class_key FROM Schedule);\n",
    "    UPDATE Schedule SET available = available + 1 WHERE (SELECT class_key FROM Reservations)= (SELECT class_key FROM Schedule);\n",
    "    END\n",
    "    '''\n",
    "    c.execute(trigger)\n",
    "    query = '''\n",
    "    UPDATE Reservations SET status = 'cancelled' where id_reservation=? \n",
    "    '''\n",
    "    c.execute(query, [id_reservation])\n",
    "    conn.commit()\n",
    "    conn.close()\n",
    "   "
   ]
  },
  {
   "cell_type": "markdown",
   "metadata": {},
   "source": [
    "### Page Setup"
   ]
  },
  {
   "cell_type": "code",
   "execution_count": 14,
   "metadata": {},
   "outputs": [],
   "source": [
    "@app.route('/profile', methods=['GET', 'POST'])\n",
    "def profile():\n",
    "    user = str(session['user'])\n",
    "    \n",
    "    # updating plan if requested\n",
    "    if request.method == 'POST' and 'new_plan' in request.form:\n",
    "        new_plan = request.form['new_plan']\n",
    "        update_plan(user, new_plan)\n",
    "        return redirect('/profile')\n",
    "    \n",
    "     # cancel reservation if requested \n",
    "    if request.method == 'POST' and 'id_reservation' in request.form:\n",
    "        id_reservation = request.form['id_reservation']\n",
    "        cancel_reserv(id_reservation)\n",
    "        return redirect('/profile')\n",
    "    \n",
    "    plan = check_plan(user)\n",
    "    rows = view_reservation()\n",
    "    return render_template('profile.html', reservation_data = rows, plan = plan)   "
   ]
  },
  {
   "cell_type": "markdown",
   "metadata": {},
   "source": [
    "## Tab 2. Classes"
   ]
  },
  {
   "cell_type": "code",
   "execution_count": 15,
   "metadata": {},
   "outputs": [],
   "source": [
    "@app.route('/classes')\n",
    "def classes(): \n",
    "    render_template('classes.html')"
   ]
  },
  {
   "cell_type": "markdown",
   "metadata": {},
   "source": [
    "### Running the app"
   ]
  },
  {
   "cell_type": "code",
   "execution_count": null,
   "metadata": {},
   "outputs": [
    {
     "name": "stdout",
     "output_type": "stream",
     "text": [
      " * Serving Flask app \"__main__\" (lazy loading)\n",
      " * Environment: production\n",
      "   WARNING: This is a development server. Do not use it in a production deployment.\n",
      "   Use a production WSGI server instead.\n",
      " * Debug mode: off\n"
     ]
    },
    {
     "name": "stderr",
     "output_type": "stream",
     "text": [
      " * Running on http://127.0.0.1:5000/ (Press CTRL+C to quit)\n",
      "127.0.0.1 - - [08/Jan/2023 17:45:22] \"\u001b[37mGET / HTTP/1.1\u001b[0m\" 200 -\n",
      "127.0.0.1 - - [08/Jan/2023 17:45:22] \"\u001b[33mGET /favicon.ico HTTP/1.1\u001b[0m\" 404 -\n",
      "127.0.0.1 - - [08/Jan/2023 17:45:40] \"\u001b[32mPOST /login HTTP/1.1\u001b[0m\" 302 -\n",
      "127.0.0.1 - - [08/Jan/2023 17:45:40] \"\u001b[37mGET /profile HTTP/1.1\u001b[0m\" 200 -\n"
     ]
    },
    {
     "name": "stdout",
     "output_type": "stream",
     "text": [
      "True\n"
     ]
    },
    {
     "name": "stderr",
     "output_type": "stream",
     "text": [
      "127.0.0.1 - - [08/Jan/2023 17:45:52] \"\u001b[32mPOST /profile HTTP/1.1\u001b[0m\" 302 -\n",
      "127.0.0.1 - - [08/Jan/2023 17:45:52] \"\u001b[37mGET /profile HTTP/1.1\u001b[0m\" 200 -\n",
      "127.0.0.1 - - [08/Jan/2023 17:45:56] \"\u001b[32mPOST /profile HTTP/1.1\u001b[0m\" 302 -\n",
      "127.0.0.1 - - [08/Jan/2023 17:45:56] \"\u001b[37mGET /profile HTTP/1.1\u001b[0m\" 200 -\n"
     ]
    }
   ],
   "source": [
    "if __name__ == '__main__':\n",
    "    app.run(debug=False)"
   ]
  },
  {
   "cell_type": "markdown",
   "metadata": {},
   "source": []
  }
 ],
 "metadata": {
  "kernelspec": {
   "display_name": "Python 3",
   "language": "python",
   "name": "python3"
  },
  "language_info": {
   "codemirror_mode": {
    "name": "ipython",
    "version": 3
   },
   "file_extension": ".py",
   "mimetype": "text/x-python",
   "name": "python",
   "nbconvert_exporter": "python",
   "pygments_lexer": "ipython3",
   "version": "3.7.6"
  }
 },
 "nbformat": 4,
 "nbformat_minor": 5
}
