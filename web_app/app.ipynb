{
 "cells": [
  {
   "cell_type": "markdown",
   "id": "623c73e5",
   "metadata": {},
   "source": [
    "## Yoga Bookings Web Application built on Flask"
   ]
  },
  {
   "cell_type": "markdown",
   "id": "8905a4bf",
   "metadata": {},
   "source": [
    "first one needs to install Flask via prompt typing: \n",
    "pip install flask\n",
    "\n"
   ]
  },
  {
   "cell_type": "code",
   "execution_count": 1,
   "id": "473c97c5",
   "metadata": {},
   "outputs": [],
   "source": [
    "# Importing the libraries needed\n",
    "\n",
    "from flask import Flask, render_template, request, session, redirect, url_for\n",
    "import sqlite3\n",
    "import numpy as np"
   ]
  },
  {
   "cell_type": "markdown",
   "id": "a444d615",
   "metadata": {},
   "source": [
    "Further we provide screen sample slides with\n",
    "SQL queries functions described. There will be\n",
    "six pages/tabs:\n",
    "- `log in/register`\n",
    "- `my profile`\n",
    "- `classes`\n",
    "- `schedule`\n",
    "- `instructors`\n",
    "- `workout history`"
   ]
  },
  {
   "cell_type": "markdown",
   "id": "c5f74e05",
   "metadata": {},
   "source": [
    "### Initiating the app\n",
    "\n",
    "The Flask object from the flask package initiates the app."
   ]
  },
  {
   "cell_type": "code",
   "execution_count": 2,
   "id": "503a5de1",
   "metadata": {},
   "outputs": [],
   "source": [
    "# first the app object is created \n",
    "\n",
    "app = Flask(__name__)\n",
    "app.secret_key = 'gatvshbeybbsk'\n",
    "\n",
    "# Next we start creating the subpages of the webapp: \n",
    "# The first page shall contain the registration form for new members\n"
   ]
  },
  {
   "cell_type": "markdown",
   "id": "b2479424",
   "metadata": {},
   "source": [
    "## Tab 1: Login & Register\n",
    "### Functions & SQL queries\n",
    "\n",
    "First we define the functions necessary for logging in and registering new members. \n",
    "Those are: `check_member` and `register_member`."
   ]
  },
  {
   "cell_type": "markdown",
   "id": "8dae5fda",
   "metadata": {},
   "source": [
    "***CHECK MEMBER***"
   ]
  },
  {
   "cell_type": "code",
   "execution_count": 3,
   "id": "e3882215",
   "metadata": {},
   "outputs": [],
   "source": [
    "# Function which checks the credentials \n",
    "\n",
    "def check_member(email, password):\n",
    "    conn = sqlite3.connect('yoga.db')\n",
    "    c = conn.cursor()\n",
    "    c.execute('Select email, password FROM Members WHERE email=? and password=?', (email, password))\n",
    "        \n",
    "    result = c.fetchone()\n",
    "    if result: \n",
    "        return True\n",
    "    else: \n",
    "        return False\n",
    "    \n",
    "    conn.commit()\n",
    "    conn.close()"
   ]
  },
  {
   "cell_type": "markdown",
   "id": "5d8168a7",
   "metadata": {},
   "source": [
    "***REGISTER MEMBER***"
   ]
  },
  {
   "cell_type": "code",
   "execution_count": 4,
   "id": "97e37e58",
   "metadata": {},
   "outputs": [],
   "source": [
    "# Function for registering new members \n",
    "\n",
    "def register_member(member_details):\n",
    "    conn = sqlite3.connect('yoga.db')\n",
    "    c = conn.cursor()\n",
    "    sql_string = 'INSERT INTO Members (name, surname, email, year_of_birth, membership, password) VALUES (?,?,?,?,?,?)'\n",
    "    c.execute(sql_string, member_details)\n",
    "    conn.commit()\n",
    "    conn.close()"
   ]
  },
  {
   "cell_type": "markdown",
   "id": "16f19e83",
   "metadata": {},
   "source": [
    "### Page setup"
   ]
  },
  {
   "cell_type": "code",
   "execution_count": 5,
   "id": "58ade728",
   "metadata": {},
   "outputs": [],
   "source": [
    "# Define the home page\n",
    "\n",
    "@app.route('/')\n",
    "def index():\n",
    "    return render_template('login.html')\n"
   ]
  },
  {
   "cell_type": "code",
   "execution_count": 6,
   "id": "5e173e50",
   "metadata": {},
   "outputs": [],
   "source": [
    "# Registration page \n",
    " \n",
    "@app.route('/register', methods=['GET', 'POST'])\n",
    "def register():\n",
    "    if request.method == \"POST\":\n",
    "        member_details = (\n",
    "        request.form['name'], \n",
    "        request.form['surname'],\n",
    "        request.form['email'], \n",
    "        request.form['year_of_birth'], \n",
    "        request.form['membership'], \n",
    "        request.form['password'])\n",
    "        \n",
    "        register_member(member_details)\n",
    "        return redirect(url_for('login'))\n",
    "    \n",
    "    else: \n",
    "        return render_template('register.html')"
   ]
  },
  {
   "cell_type": "code",
   "execution_count": 7,
   "id": "96527c2d",
   "metadata": {},
   "outputs": [],
   "source": [
    "# Login page \n",
    "\n",
    "@app.route('/login', methods = ['GET', 'POST'])\n",
    "def login():\n",
    "    if request.method == 'POST':\n",
    "        \n",
    "        session.permanent = True \n",
    "        # To simplify, the email will be the username \n",
    "        user = request.form['email']\n",
    "        password = request.form['password']\n",
    "        print(check_member(user, password))\n",
    "        if check_member(user, password):\n",
    "            session['user'] = user    \n",
    "        return redirect(url_for('profile'))\n",
    "    \n",
    "    else:\n",
    "        if 'user' in session: \n",
    "            return redirect(url_for('index'))\n",
    "        \n",
    "        return render_template('login.html')"
   ]
  },
  {
   "cell_type": "markdown",
   "id": "4ade4d8f",
   "metadata": {},
   "source": [
    "## Tab 2: My profile\n",
    "### Functions & SQL queries\n",
    "\n",
    "\n",
    "First we need to define a few functions wrapping into them the sql queries needed to operate for each functionality of the page."
   ]
  },
  {
   "cell_type": "markdown",
   "id": "ad2bbbea",
   "metadata": {},
   "source": [
    "In `My profile` tab the user should be able to: \n",
    "\n",
    "- check put his/her membership plan\n",
    "- update membership plan\n",
    "- view class reservations\n",
    "- cancel class reservations\n",
    "\n",
    "Now we want to create a function which will contain the sql query."
   ]
  },
  {
   "cell_type": "markdown",
   "id": "42c94cc1",
   "metadata": {},
   "source": [
    "***CHECK MEMBERSHIP***"
   ]
  },
  {
   "cell_type": "code",
   "execution_count": 8,
   "id": "e7949256",
   "metadata": {},
   "outputs": [],
   "source": [
    "# code here\n",
    "def check_plan(user): \n",
    "    conn = sqlite3.connect('yoga.db')\n",
    "    c = conn.cursor()\n",
    "    c.execute('''\n",
    "    CREATE VIEW IF NOT EXISTS member_plan\n",
    "    AS\n",
    "    SELECT\n",
    "    id_member, \n",
    "    membership, \n",
    "    Memberships.name AS name\n",
    "    FROM \n",
    "    Members\n",
    "    INNER JOIN Memberships ON Members.membership=Memberships.id_membership\n",
    "    ''')\n",
    "    c.execute('''\n",
    "    SELECT name FROM member_plan WHERE (SELECT id_member FROM Members WHERE email=?)=id_member\n",
    "    ''', [user])\n",
    "    plan = c.fetchone()\n",
    "    return plan\n",
    "    conn.commit()\n",
    "    conn.close()"
   ]
  },
  {
   "cell_type": "code",
   "execution_count": 9,
   "id": "ee4a786f",
   "metadata": {},
   "outputs": [],
   "source": [
    "# plan = check_plan('oliviakul@gmail.com')"
   ]
  },
  {
   "cell_type": "markdown",
   "id": "9d799b7e",
   "metadata": {},
   "source": [
    "***UPDATE PLAN***"
   ]
  },
  {
   "cell_type": "code",
   "execution_count": 10,
   "id": "6327c21f",
   "metadata": {},
   "outputs": [],
   "source": [
    "def update_plan(user, new_plan):\n",
    "    conn = sqlite3.connect('yoga.db')\n",
    "    c = conn.cursor()\n",
    "    c.execute('UPDATE Members SET membership=? WHERE email=?', (new_plan, user))\n",
    "    conn.commit()\n",
    "    conn.close()"
   ]
  },
  {
   "cell_type": "code",
   "execution_count": 11,
   "id": "2e28590b",
   "metadata": {},
   "outputs": [],
   "source": [
    "# sample to check : update_plan('oliviakul@gmail.com', 3)"
   ]
  },
  {
   "cell_type": "markdown",
   "id": "24f2ec5c",
   "metadata": {},
   "source": [
    "***VIEW RESERVATIONS***"
   ]
  },
  {
   "cell_type": "code",
   "execution_count": 12,
   "id": "2e9f30d1",
   "metadata": {},
   "outputs": [],
   "source": [
    "def view_reservation(): \n",
    "    user = str(session['user'])\n",
    "    conn = sqlite3.connect('yoga.db')\n",
    "    c = conn.cursor()               \n",
    "    query = '''\n",
    "    SELECT \n",
    "        id_member AS Member,\n",
    "        id_reservation AS ReservationID, \n",
    "        date_hour AS Time, \n",
    "        c.name AS Class, \n",
    "        i.name AS InstructorName, \n",
    "        i.surname AS InstructorSurname, \n",
    "        status AS RegistrationStatus\n",
    "    FROM Reservations r \n",
    "    INNER JOIN Schedule s\n",
    "    ON r.class_key=s.class_key\n",
    "    INNER JOIN Classes c\n",
    "    ON c.id_class=s.id_class\n",
    "    INNER JOIN Instructors i \n",
    "    ON s.id_instructor=i.id_instructor\n",
    "    WHERE r.id_member=(SELECT id_member FROM Members WHERE email = ?)\n",
    "    '''\n",
    "    c.execute(query, [user])\n",
    "    reservation_data = c.fetchall()\n",
    "    return reservation_data\n",
    "    conn.commit()\n",
    "    conn.close()"
   ]
  },
  {
   "cell_type": "markdown",
   "id": "61c0f0b1",
   "metadata": {},
   "source": [
    "***CANCEL RESERVATION***"
   ]
  },
  {
   "cell_type": "markdown",
   "id": "61f3436d",
   "metadata": {},
   "source": [
    "When the reservation is cancelled, the following changes are up: \n",
    "- `Reservations.status` changes to `cancelled`\n",
    "- in `Schedule` fields `available` and `enrolled` are corrected"
   ]
  },
  {
   "cell_type": "code",
   "execution_count": 13,
   "id": "850454ae",
   "metadata": {},
   "outputs": [],
   "source": [
    "# as id_resrvation in Reservations is primary key, it will be enough to pass only it as an argument \n",
    "\n",
    "def cancel_reserv(id_reservation):\n",
    "    \n",
    "    conn = sqlite3.connect('yoga.db')\n",
    "    c = conn.cursor()\n",
    "    trigger = '''CREATE TRIGGER IF NOT EXISTS cancel_reservation AFTER UPDATE OF status\n",
    "    ON Reservations\n",
    "    WHEN old.status <> new.status\n",
    "    BEGIN \n",
    "    UPDATE Schedule SET enrolled = enrolled - 1 WHERE (SELECT class_key FROM Reservations)= (SELECT class_key FROM Schedule);\n",
    "    UPDATE Schedule SET available = available + 1 WHERE (SELECT class_key FROM Reservations)= (SELECT class_key FROM Schedule);\n",
    "    END\n",
    "    '''\n",
    "    c.execute(trigger)\n",
    "    query = '''\n",
    "    UPDATE Reservations SET status = 'cancelled' where id_reservation=? \n",
    "    '''\n",
    "    c.execute(query, [id_reservation])\n",
    "    conn.commit()\n",
    "    conn.close()\n",
    "   "
   ]
  },
  {
   "cell_type": "markdown",
   "id": "170edec6",
   "metadata": {},
   "source": [
    "### Page Setup"
   ]
  },
  {
   "cell_type": "code",
   "execution_count": 14,
   "id": "f8d5d062",
   "metadata": {},
   "outputs": [],
   "source": [
    "@app.route('/profile', methods=['GET', 'POST'])\n",
    "def profile():\n",
    "    user = str(session['user'])\n",
    "    \n",
    "    # updating plan if requested\n",
    "    if request.method == 'POST' and 'new_plan' in request.form:\n",
    "        new_plan = request.form['new_plan']\n",
    "        update_plan(user, new_plan)\n",
    "        return redirect('/profile')\n",
    "    \n",
    "     # cancel reservation if requested \n",
    "    if request.method == 'POST' and 'id_reservation' in request.form:\n",
    "        id_reservation = request.form['id_reservation']\n",
    "        cancel_reserv(id_reservation)\n",
    "        return redirect('/profile')\n",
    "    \n",
    "    plan = check_plan(user)\n",
    "    rows = view_reservation()\n",
    "    return render_template('profile.html', reservation_data = rows, plan = plan)   "
   ]
  },
  {
   "cell_type": "markdown",
   "id": "b62e6d8b",
   "metadata": {},
   "source": [
    "## Tab 2. Classes"
   ]
  },
  {
   "cell_type": "code",
   "execution_count": 15,
   "id": "b56f561d",
   "metadata": {},
   "outputs": [],
   "source": [
    "@app.route('/classes')\n",
    "def classes(): \n",
    "    render_template('classes.html')"
   ]
  },
  {
   "cell_type": "markdown",
   "id": "3111dbac",
   "metadata": {},
   "source": [
    "### Running the app"
   ]
  },
  {
   "cell_type": "code",
   "execution_count": null,
   "id": "e52579a8",
   "metadata": {},
   "outputs": [
    {
     "name": "stdout",
     "output_type": "stream",
     "text": [
      " * Serving Flask app \"__main__\" (lazy loading)\n",
      " * Environment: production\n",
      "\u001b[31m   WARNING: This is a development server. Do not use it in a production deployment.\u001b[0m\n",
      "\u001b[2m   Use a production WSGI server instead.\u001b[0m\n",
      " * Debug mode: off\n"
     ]
    },
    {
     "name": "stderr",
     "output_type": "stream",
     "text": [
      " * Running on http://localhost:5000/ (Press CTRL+C to quit)\n",
      "127.0.0.1 - - [03/Jan/2023 18:03:48] \"GET / HTTP/1.1\" 200 -\n",
      "127.0.0.1 - - [03/Jan/2023 18:03:56] \"POST /login HTTP/1.1\" 302 -\n",
      "127.0.0.1 - - [03/Jan/2023 18:03:56] \"GET /profile HTTP/1.1\" 200 -\n"
     ]
    },
    {
     "name": "stdout",
     "output_type": "stream",
     "text": [
      "True\n"
     ]
    }
   ],
   "source": [
    "if __name__ == '__main__':\n",
    "    app.run(host='localhost', port=5000, debug=False)"
   ]
  },
  {
   "cell_type": "markdown",
   "id": "193d3586",
   "metadata": {},
   "source": []
  }
 ],
 "metadata": {
  "kernelspec": {
   "display_name": "Python 3 (ipykernel)",
   "language": "python",
   "name": "python3"
  },
  "language_info": {
   "codemirror_mode": {
    "name": "ipython",
    "version": 3
   },
   "file_extension": ".py",
   "mimetype": "text/x-python",
   "name": "python",
   "nbconvert_exporter": "python",
   "pygments_lexer": "ipython3",
   "version": "3.9.13"
  }
 },
 "nbformat": 4,
 "nbformat_minor": 5
}
