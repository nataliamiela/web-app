{
 "cells": [
  {
   "cell_type": "markdown",
   "id": "5238790f",
   "metadata": {},
   "source": [
    "## Yoga Bookings Web Application built on Flask"
   ]
  },
  {
   "cell_type": "markdown",
   "id": "94139885",
   "metadata": {},
   "source": [
    "first one needs to install Flask via prompt typing: \n",
    "pip install flask\n",
    "\n"
   ]
  },
  {
   "cell_type": "code",
   "execution_count": 1,
   "id": "799bef3d",
   "metadata": {},
   "outputs": [],
   "source": [
    "# Importing the libraries needed\n",
    "\n",
    "from flask import Flask, render_template, request, session, redirect, url_for\n",
    "import sqlite3\n",
    "import numpy as np\n",
    "import pandas as pd\n",
    "import matplotlib.pyplot as plt\n",
    "from itertools import groupby\n",
    "from io import BytesIO\n",
    "import base64"
   ]
  },
  {
   "cell_type": "markdown",
   "id": "b1ce4db4",
   "metadata": {},
   "source": [
    "Further we provide screen sample slides with\n",
    "SQL queries functions described. There will be\n",
    "six pages/tabs:\n",
    "- `log in/register`\n",
    "- `my profile`\n",
    "- `classes`\n",
    "- `schedule`\n",
    "- `instructors`\n",
    "- `workout history`"
   ]
  },
  {
   "cell_type": "markdown",
   "id": "36979a7b",
   "metadata": {},
   "source": [
    "### Initiating the app\n",
    "\n",
    "The Flask object from the flask package initiates the app."
   ]
  },
  {
   "cell_type": "code",
   "execution_count": 2,
   "id": "2eab047c",
   "metadata": {},
   "outputs": [],
   "source": [
    "# first the app object is created \n",
    "\n",
    "app = Flask(__name__)\n",
    "app.secret_key = 'gatvshbeybbsk'\n",
    "\n",
    "# Next we start creating the subpages of the webapp: \n",
    "# The first page shall contain the registration form for new members\n"
   ]
  },
  {
   "cell_type": "markdown",
   "id": "0d6e4b31",
   "metadata": {},
   "source": [
    "## Tab 1: Login & Register\n",
    "### Functions & SQL queries\n",
    "\n",
    "First we define the functions necessary for logging in and registering new members. \n",
    "Those are: `check_member` and `register_member`."
   ]
  },
  {
   "cell_type": "markdown",
   "id": "a3eb3027",
   "metadata": {},
   "source": [
    "***CHECK MEMBER***"
   ]
  },
  {
   "cell_type": "code",
   "execution_count": 3,
   "id": "6d983e48",
   "metadata": {},
   "outputs": [],
   "source": [
    "# Function which checks the credentials \n",
    "\n",
    "def check_member(email, password):\n",
    "    conn = sqlite3.connect('yoga.db')\n",
    "    c = conn.cursor()\n",
    "    c.execute('Select member_email, password FROM Members WHERE member_email=? and password=?', (email, password))\n",
    "        \n",
    "    result = c.fetchone()\n",
    "    if result: \n",
    "        return True\n",
    "    else: \n",
    "        return False\n",
    "    \n",
    "    conn.commit()\n",
    "    conn.close()"
   ]
  },
  {
   "cell_type": "markdown",
   "id": "a69dbb2f",
   "metadata": {},
   "source": [
    "***REGISTER MEMBER***"
   ]
  },
  {
   "cell_type": "code",
   "execution_count": 4,
   "id": "4876dafd",
   "metadata": {},
   "outputs": [],
   "source": [
    "# Function for registering new members \n",
    "\n",
    "def register_member(member_details):\n",
    "    conn = sqlite3.connect('yoga.db')\n",
    "    c = conn.cursor()\n",
    "    sql_string = 'INSERT INTO Members (member_name, member_surname, member_email, year_of_birth, membership, password) VALUES (?,?,?,?,?,?)'\n",
    "    c.execute(sql_string, member_details)\n",
    "    conn.commit()\n",
    "    conn.close()"
   ]
  },
  {
   "cell_type": "markdown",
   "id": "bfdd4e8d",
   "metadata": {},
   "source": [
    "### Page setup"
   ]
  },
  {
   "cell_type": "code",
   "execution_count": 5,
   "id": "8831606b",
   "metadata": {},
   "outputs": [],
   "source": [
    "# Define the home page\n",
    "\n",
    "@app.route('/')\n",
    "def index():\n",
    "    return render_template('login.html')\n"
   ]
  },
  {
   "cell_type": "code",
   "execution_count": 6,
   "id": "9f3880e1",
   "metadata": {},
   "outputs": [],
   "source": [
    "# Registration page \n",
    " \n",
    "@app.route('/register', methods=['GET', 'POST'])\n",
    "def register():\n",
    "    if request.method == \"POST\":\n",
    "        member_details = (\n",
    "        request.form['member_name'], \n",
    "        request.form['member_surname'],\n",
    "        request.form['member_email'], \n",
    "        request.form['year_of_birth'], \n",
    "        request.form['membership'], \n",
    "        request.form['password'])\n",
    "        \n",
    "        register_member(member_details)\n",
    "        return redirect(url_for('login'))\n",
    "    \n",
    "    else: \n",
    "        return render_template('register.html')"
   ]
  },
  {
   "cell_type": "code",
   "execution_count": 7,
   "id": "18ba5278",
   "metadata": {},
   "outputs": [],
   "source": [
    "# Login page \n",
    "\n",
    "@app.route('/login', methods = ['GET', 'POST'])\n",
    "def login():\n",
    "    if request.method == 'POST':\n",
    "        \n",
    "        session.permanent = True \n",
    "        # To simplify, the email will be the username \n",
    "        user = request.form['member_email']\n",
    "        password = request.form['password']\n",
    "        print(check_member(user, password))\n",
    "        if check_member(user, password):\n",
    "            session['user'] = user    \n",
    "        return redirect(url_for('profile'))\n",
    "    \n",
    "    else:\n",
    "        if 'user' in session: \n",
    "            return redirect(url_for('index'))\n",
    "        \n",
    "        return render_template('login.html')"
   ]
  },
  {
   "cell_type": "markdown",
   "id": "0397c49d",
   "metadata": {},
   "source": [
    "## Tab 2: My profile\n",
    "### Functions & SQL queries\n",
    "\n",
    "\n",
    "First we need to define a few functions wrapping into them the sql queries needed to operate for each functionality of the page."
   ]
  },
  {
   "cell_type": "markdown",
   "id": "2d320106",
   "metadata": {},
   "source": [
    "In `My profile` tab the user should be able to: \n",
    "\n",
    "- check put his/her membership plan\n",
    "- update membership plan\n",
    "- view class reservations\n",
    "- cancel class reservations\n",
    "\n",
    "Now we want to create a function which will contain the sql query."
   ]
  },
  {
   "cell_type": "markdown",
   "id": "5d6a06b3",
   "metadata": {},
   "source": [
    "***CHECK MEMBERSHIP***"
   ]
  },
  {
   "cell_type": "code",
   "execution_count": 8,
   "id": "9615b20c",
   "metadata": {},
   "outputs": [],
   "source": [
    "# code here\n",
    "def check_plan(user): \n",
    "    conn = sqlite3.connect('yoga.db')\n",
    "    c = conn.cursor()\n",
    "    c.execute('''\n",
    "    CREATE VIEW IF NOT EXISTS member_plan\n",
    "    AS\n",
    "    SELECT\n",
    "    id_member, \n",
    "    membership, \n",
    "    Memberships.membership_name AS name\n",
    "    FROM \n",
    "    Members\n",
    "    INNER JOIN Memberships ON Members.membership=Memberships.id_membership\n",
    "    ''')\n",
    "    c.execute('''\n",
    "    SELECT name FROM member_plan WHERE (SELECT id_member FROM Members WHERE member_email=?)=id_member\n",
    "    ''', [user])\n",
    "    plan = c.fetchone()\n",
    "    return plan\n",
    "    conn.commit()\n",
    "    conn.close()"
   ]
  },
  {
   "cell_type": "code",
   "execution_count": 9,
   "id": "51af9193",
   "metadata": {},
   "outputs": [],
   "source": [
    "# plan = check_plan('oliviakul@gmail.com')"
   ]
  },
  {
   "cell_type": "markdown",
   "id": "106ad68f",
   "metadata": {},
   "source": [
    "***UPDATE PLAN***"
   ]
  },
  {
   "cell_type": "code",
   "execution_count": 10,
   "id": "d61815d9",
   "metadata": {},
   "outputs": [],
   "source": [
    "def update_plan(user, new_plan):\n",
    "    conn = sqlite3.connect('yoga.db')\n",
    "    c = conn.cursor()\n",
    "    c.execute('UPDATE Members SET membership=? WHERE member_email=?', (new_plan, user))\n",
    "    conn.commit()\n",
    "    conn.close()"
   ]
  },
  {
   "cell_type": "code",
   "execution_count": 11,
   "id": "fdc03a8b",
   "metadata": {},
   "outputs": [],
   "source": [
    "# sample to check : update_plan('oliviakul@gmail.com', 3)"
   ]
  },
  {
   "cell_type": "markdown",
   "id": "dc872189",
   "metadata": {},
   "source": [
    "***VIEW RESERVATIONS***"
   ]
  },
  {
   "cell_type": "code",
   "execution_count": 12,
   "id": "727e86fa",
   "metadata": {},
   "outputs": [],
   "source": [
    "def view_reservation(): \n",
    "    user = str(session['user'])\n",
    "    conn = sqlite3.connect('yoga.db')\n",
    "    c = conn.cursor()               \n",
    "    query = '''\n",
    "    SELECT \n",
    "        id_member AS Member,\n",
    "        id_reservation AS ReservationID, \n",
    "        date_hour AS Time, \n",
    "        class_name AS Class, \n",
    "        instructor_name AS InstructorName, \n",
    "        instructor_surname AS InstructorSurname, \n",
    "        status AS RegistrationStatus\n",
    "    FROM Reservations r \n",
    "    INNER JOIN Schedule s\n",
    "    ON r.class_key=s.class_key\n",
    "    INNER JOIN Classes c\n",
    "    ON c.id_class=s.id_class\n",
    "    INNER JOIN Instructors i \n",
    "    ON s.id_instructor=i.id_instructor\n",
    "    WHERE r.id_member=(SELECT id_member FROM Members WHERE member_email = ?)\n",
    "    '''\n",
    "    c.execute(query, [user])\n",
    "    reservation_data = c.fetchall()\n",
    "    return reservation_data\n",
    "    conn.commit()\n",
    "    conn.close()"
   ]
  },
  {
   "cell_type": "markdown",
   "id": "b51da390",
   "metadata": {},
   "source": [
    "***CANCEL RESERVATION***"
   ]
  },
  {
   "cell_type": "markdown",
   "id": "f959ab07",
   "metadata": {},
   "source": [
    "When the reservation is cancelled, the following changes are up: \n",
    "- `Reservations.status` changes to `cancelled`\n",
    "- in `Schedule` fields `available` and `enrolled` are corrected"
   ]
  },
  {
   "cell_type": "code",
   "execution_count": 13,
   "id": "38e255f2",
   "metadata": {},
   "outputs": [],
   "source": [
    "# as id_resrvation in Reservations is primary key, it will be enough to pass only it as an argument \n",
    "\n",
    "def cancel_reserv(id_reservation):\n",
    "    \n",
    "    conn = sqlite3.connect('yoga.db')\n",
    "    c = conn.cursor()\n",
    "    trigger = '''CREATE TRIGGER IF NOT EXISTS cancel_reservation AFTER UPDATE OF status\n",
    "    ON Reservations\n",
    "    WHEN old.status <> new.status\n",
    "    BEGIN \n",
    "    UPDATE Schedule SET enrolled = enrolled - 1 WHERE (SELECT class_key FROM Reservations)= (SELECT class_key FROM Schedule);\n",
    "    UPDATE Schedule SET available = available + 1 WHERE (SELECT class_key FROM Reservations)= (SELECT class_key FROM Schedule);\n",
    "    END\n",
    "    '''\n",
    "    c.execute(trigger)\n",
    "    query = '''\n",
    "    UPDATE Reservations SET status = 'cancelled' where id_reservation=? \n",
    "    '''\n",
    "    c.execute(query, [id_reservation])\n",
    "    conn.commit()\n",
    "    conn.close()\n",
    "   "
   ]
  },
  {
   "cell_type": "markdown",
   "id": "8db09bde",
   "metadata": {},
   "source": [
    "### Page Setup"
   ]
  },
  {
   "cell_type": "code",
   "execution_count": 14,
   "id": "ceec3ac9",
   "metadata": {},
   "outputs": [],
   "source": [
    "@app.route('/profile', methods=['GET', 'POST'])\n",
    "def profile():\n",
    "    user = str(session['user'])\n",
    "    \n",
    "    # updating plan if requested\n",
    "    if request.method == 'POST' and 'new_plan' in request.form:\n",
    "        new_plan = request.form['new_plan']\n",
    "        update_plan(user, new_plan)\n",
    "        return redirect('/profile')\n",
    "    \n",
    "     # cancel reservation if requested \n",
    "    if request.method == 'POST' and 'id_reservation' in request.form:\n",
    "        id_reservation = request.form['id_reservation']\n",
    "        cancel_reserv(id_reservation)\n",
    "        return redirect('/profile')\n",
    "    \n",
    "    plan = check_plan(user)\n",
    "    rows = view_reservation()\n",
    "    return render_template('profile.html', reservation_data = rows, plan = plan)   "
   ]
  },
  {
   "cell_type": "markdown",
   "id": "ac721482",
   "metadata": {},
   "source": [
    "## Tab 2. Classes"
   ]
  },
  {
   "cell_type": "code",
   "execution_count": 15,
   "id": "670d9c27",
   "metadata": {},
   "outputs": [],
   "source": [
    "@app.route('/classes')\n",
    "def classes(): \n",
    "    return render_template('classes.html')"
   ]
  },
  {
   "cell_type": "markdown",
   "id": "2910c8e7",
   "metadata": {},
   "source": [
    "## Tab 3. Schedule"
   ]
  },
  {
   "cell_type": "code",
   "execution_count": 16,
   "id": "fb665626",
   "metadata": {},
   "outputs": [],
   "source": [
    "def schedule():\n",
    "    db_yoga = 'yoga.db'\n",
    "    conn = sqlite3.connect(db_yoga)\n",
    "    c = conn.cursor()\n",
    "    schedule = c.execute(\"\"\"\n",
    "    SELECT DISTINCT class_key, class_name, date_hour, instructor_name, place_limit, available\n",
    "    FROM Instructors i\n",
    "    INNER JOIN Schedule s\n",
    "    ON i.id_instructor=s.id_instructor\n",
    "    INNER JOIN Classes c\n",
    "    ON s.id_class=c.id_class\n",
    "    ORDER BY class_key\n",
    "    \"\"\").fetchall()\n",
    "    conn.commit()\n",
    "    conn.close()\n",
    "    return schedule"
   ]
  },
  {
   "cell_type": "code",
   "execution_count": 17,
   "id": "d59aec33",
   "metadata": {},
   "outputs": [],
   "source": [
    "# Update slots available in Schedule upon booking\n",
    "\n",
    "def book_class(class_key):\n",
    "    conn = sqlite3.connect('yoga.db')\n",
    "    c = conn.cursor()\n",
    "    c.execute(\"\"\"\n",
    "    UPDATE Schedule SET enrolled = enrolled + 1, available = available - 1 WHERE class_key=?\n",
    "    \"\"\",[class_key])\n",
    "    c.execute(\"\"\"\n",
    "    UPDATE Schedule SET available = 0 WHERE available < 1;\n",
    "    \"\"\")\n",
    "    conn.commit()\n",
    "    conn.close()"
   ]
  },
  {
   "cell_type": "code",
   "execution_count": 18,
   "id": "801ddfaf",
   "metadata": {},
   "outputs": [],
   "source": [
    "#def book_class_res(class_key):\n",
    "#    user = str(session['user'])    \n",
    "#    c.execute(\"\"\"\n",
    "#    INSERT INTO Reservations (id_member, class_key, id_reservation, status) VALUES (id_member = ?, class_key = ?, NULL, 'active');\n",
    "#    \"\"\",[user],[class_key])\n",
    "#    conn.commit()\n",
    "#    conn.close()"
   ]
  },
  {
   "cell_type": "markdown",
   "id": "eacdacce",
   "metadata": {},
   "source": [
    "### Page Setup"
   ]
  },
  {
   "cell_type": "code",
   "execution_count": 19,
   "id": "13bc1793",
   "metadata": {},
   "outputs": [],
   "source": [
    "@app.route('/schedule', methods = ['GET', 'POST'])\n",
    "def schedule_table():\n",
    "    user = str(session['user'])\n",
    "    \n",
    "    if request.method == 'POST' and 'class_key' in request.form:\n",
    "        class_key = request.form['class_key']\n",
    "        book_class(class_key)\n",
    "        return redirect('/schedule')    \n",
    "    \n",
    "    schedule_info = schedule()\n",
    "    return render_template('schedule.html', schedule_info = schedule_info)"
   ]
  },
  {
   "cell_type": "markdown",
   "id": "ed71bed1",
   "metadata": {},
   "source": [
    "## Tab 4. Instructors"
   ]
  },
  {
   "cell_type": "code",
   "execution_count": 20,
   "id": "92893ae9",
   "metadata": {},
   "outputs": [
    {
     "name": "stdout",
     "output_type": "stream",
     "text": [
      "dict_items([('Cindy', [('Cindy', 'Crawford', 'cindy@gmail.com', 'Yoga for beginners')]), ('Naomi', [('Naomi', 'Campbell', 'blackpanther@gmail.com', 'Kundalini yoga')]), ('Claudia', [('Claudia', 'Schiffer', 'claudiaschiffer@gmail.com', 'Stretching')])])\n",
      "Cindy\n",
      "      Yoga for beginners\n",
      "Naomi\n",
      "      Kundalini yoga\n",
      "Claudia\n",
      "      Stretching\n"
     ]
    }
   ],
   "source": [
    "### Instructors page\n",
    "\n",
    "def instructors():\n",
    "    db_yoga = 'yoga.db'\n",
    "    conn = sqlite3.connect(db_yoga)\n",
    "    c = conn.cursor()\n",
    "    instructors_info = c.execute(\"\"\"\n",
    "    SELECT DISTINCT instructor_name, instructor_surname, instructor_email, class_name \n",
    "    FROM Instructors i\n",
    "    INNER JOIN Schedule s\n",
    "    ON i.id_instructor=s.id_instructor\n",
    "    INNER JOIN Classes c\n",
    "    ON s.id_class=c.id_class\n",
    "    \"\"\").fetchall()\n",
    "    conn.commit()\n",
    "    conn.close()\n",
    "    return instructors_info\n",
    "\n",
    "instructors_info = instructors()\n",
    "lists = {}\n",
    "\n",
    "for a, b in groupby(instructors_info, key = lambda t: t[0]):\n",
    "    lists[a] = list(b)\n",
    "\n",
    "print(lists.items())\n",
    "\n",
    "for list_, items in lists.items():\n",
    "    print(list_)\n",
    "    for item in items:\n",
    "        print('     ', item[3])"
   ]
  },
  {
   "cell_type": "markdown",
   "id": "eb670c47",
   "metadata": {},
   "source": [
    "### Page Setup"
   ]
  },
  {
   "cell_type": "code",
   "execution_count": 21,
   "id": "28c5a558",
   "metadata": {},
   "outputs": [],
   "source": [
    "@app.route('/instructors')\n",
    "def instructors_table():\n",
    "    instructors_info = instructors()\n",
    "    return render_template('instructors.html', instructors_info = instructors_info)"
   ]
  },
  {
   "cell_type": "markdown",
   "id": "5890826a",
   "metadata": {},
   "source": [
    "## Tab 5. Statistic"
   ]
  },
  {
   "cell_type": "markdown",
   "id": "715528d3",
   "metadata": {},
   "source": [
    "### Page Setup"
   ]
  },
  {
   "cell_type": "code",
   "execution_count": 22,
   "id": "254e49d7",
   "metadata": {},
   "outputs": [],
   "source": [
    "@app.route('/history')\n",
    "def fig():\n",
    "    stat = pd.DataFrame(schedule())\n",
    "    stat.columns = ['ID','Class','Time_slot', 'I_name','Limit','Avail']\n",
    "    stat.groupby('Class')['Avail','Limit'].sum().plot.barh(align = 'center', color = ['tab:blue','tab:red'])\n",
    "    plt.ylabel('Classes')\n",
    "    plt.xlabel('Avail/Limit summary for this week')\n",
    "    img = BytesIO()\n",
    "    plt.autoscale()\n",
    "    plt.savefig(img, format='png', bbox_inches=\"tight\")\n",
    "    plt.close()\n",
    "    img.seek(0)\n",
    "    plot_url = base64.b64encode(img.getvalue()).decode('utf8')\n",
    "    return render_template('history.html', plot_url=plot_url)"
   ]
  },
  {
   "cell_type": "markdown",
   "id": "d3651816",
   "metadata": {},
   "source": [
    "### Running the app"
   ]
  },
  {
   "cell_type": "code",
   "execution_count": null,
   "id": "1b6fd725",
   "metadata": {},
   "outputs": [
    {
     "name": "stdout",
     "output_type": "stream",
     "text": [
      " * Serving Flask app '__main__'\n",
      " * Debug mode: off\n"
     ]
    },
    {
     "name": "stderr",
     "output_type": "stream",
     "text": [
      "\u001b[31m\u001b[1mWARNING: This is a development server. Do not use it in a production deployment. Use a production WSGI server instead.\u001b[0m\n",
      " * Running on http://127.0.0.1:5000\n",
      "\u001b[33mPress CTRL+C to quit\u001b[0m\n",
      "127.0.0.1 - - [22/Jan/2023 11:27:40] \"GET / HTTP/1.1\" 200 -\n",
      "127.0.0.1 - - [22/Jan/2023 11:27:40] \"\u001b[36mGET /static/1.jpg HTTP/1.1\u001b[0m\" 304 -\n",
      "127.0.0.1 - - [22/Jan/2023 11:27:48] \"\u001b[32mPOST /login HTTP/1.1\u001b[0m\" 302 -\n",
      "127.0.0.1 - - [22/Jan/2023 11:27:48] \"GET /profile HTTP/1.1\" 200 -\n"
     ]
    },
    {
     "name": "stdout",
     "output_type": "stream",
     "text": [
      "True\n"
     ]
    },
    {
     "name": "stderr",
     "output_type": "stream",
     "text": [
      "127.0.0.1 - - [22/Jan/2023 11:38:28] \"GET /profile HTTP/1.1\" 200 -\n",
      "127.0.0.1 - - [22/Jan/2023 11:38:29] \"GET / HTTP/1.1\" 200 -\n",
      "127.0.0.1 - - [22/Jan/2023 11:38:29] \"\u001b[36mGET /static/1.jpg HTTP/1.1\u001b[0m\" 304 -\n",
      "127.0.0.1 - - [22/Jan/2023 11:38:29] \"\u001b[36mGET /static/1.jpg HTTP/1.1\u001b[0m\" 304 -\n",
      "127.0.0.1 - - [22/Jan/2023 11:38:29] \"GET /classes HTTP/1.1\" 200 -\n",
      "127.0.0.1 - - [22/Jan/2023 11:38:29] \"\u001b[36mGET /static/photo1.jpg HTTP/1.1\u001b[0m\" 304 -\n",
      "127.0.0.1 - - [22/Jan/2023 11:38:30] \"GET /classes HTTP/1.1\" 200 -\n",
      "127.0.0.1 - - [22/Jan/2023 11:38:30] \"\u001b[36mGET /static/photo1.jpg HTTP/1.1\u001b[0m\" 304 -\n",
      "127.0.0.1 - - [22/Jan/2023 11:38:30] \"\u001b[36mGET /static/photo1.jpg HTTP/1.1\u001b[0m\" 304 -\n",
      "127.0.0.1 - - [22/Jan/2023 11:39:58] \"GET /classes HTTP/1.1\" 200 -\n",
      "127.0.0.1 - - [22/Jan/2023 11:39:58] \"\u001b[36mGET /static/photo1.jpg HTTP/1.1\u001b[0m\" 304 -\n",
      "127.0.0.1 - - [22/Jan/2023 11:39:58] \"\u001b[36mGET /static/photo1.jpg HTTP/1.1\u001b[0m\" 304 -\n",
      "127.0.0.1 - - [22/Jan/2023 11:39:59] \"GET / HTTP/1.1\" 200 -\n",
      "127.0.0.1 - - [22/Jan/2023 11:39:59] \"\u001b[36mGET /static/1.jpg HTTP/1.1\u001b[0m\" 304 -\n",
      "127.0.0.1 - - [22/Jan/2023 11:39:59] \"\u001b[36mGET /static/1.jpg HTTP/1.1\u001b[0m\" 304 -\n",
      "127.0.0.1 - - [22/Jan/2023 11:39:59] \"GET /schedule HTTP/1.1\" 200 -\n",
      "127.0.0.1 - - [22/Jan/2023 11:40:50] \"GET /schedule HTTP/1.1\" 200 -\n",
      "127.0.0.1 - - [22/Jan/2023 11:40:51] \"GET / HTTP/1.1\" 200 -\n",
      "127.0.0.1 - - [22/Jan/2023 11:40:51] \"\u001b[36mGET /static/1.jpg HTTP/1.1\u001b[0m\" 304 -\n",
      "127.0.0.1 - - [22/Jan/2023 11:40:51] \"\u001b[36mGET /static/1.jpg HTTP/1.1\u001b[0m\" 304 -\n",
      "127.0.0.1 - - [22/Jan/2023 11:40:52] \"GET /instructors HTTP/1.1\" 200 -\n",
      "127.0.0.1 - - [22/Jan/2023 11:42:00] \"GET /instructors HTTP/1.1\" 200 -\n",
      "127.0.0.1 - - [22/Jan/2023 11:42:02] \"GET / HTTP/1.1\" 200 -\n",
      "127.0.0.1 - - [22/Jan/2023 11:42:02] \"\u001b[36mGET /static/1.jpg HTTP/1.1\u001b[0m\" 304 -\n",
      "127.0.0.1 - - [22/Jan/2023 11:42:02] \"\u001b[36mGET /static/1.jpg HTTP/1.1\u001b[0m\" 304 -\n",
      "127.0.0.1 - - [22/Jan/2023 11:42:02] \"GET /schedule HTTP/1.1\" 200 -\n",
      "127.0.0.1 - - [22/Jan/2023 11:42:04] \"GET /schedule HTTP/1.1\" 200 -\n",
      "127.0.0.1 - - [22/Jan/2023 11:42:05] \"GET / HTTP/1.1\" 200 -\n",
      "127.0.0.1 - - [22/Jan/2023 11:42:05] \"\u001b[36mGET /static/1.jpg HTTP/1.1\u001b[0m\" 304 -\n",
      "127.0.0.1 - - [22/Jan/2023 11:42:05] \"\u001b[36mGET /static/1.jpg HTTP/1.1\u001b[0m\" 304 -\n",
      "127.0.0.1 - - [22/Jan/2023 11:42:05] \"GET /schedule HTTP/1.1\" 200 -\n",
      "127.0.0.1 - - [22/Jan/2023 11:42:10] \"GET /schedule HTTP/1.1\" 200 -\n",
      "127.0.0.1 - - [22/Jan/2023 11:42:10] \"GET / HTTP/1.1\" 200 -\n",
      "127.0.0.1 - - [22/Jan/2023 11:42:10] \"\u001b[36mGET /static/1.jpg HTTP/1.1\u001b[0m\" 304 -\n",
      "127.0.0.1 - - [22/Jan/2023 11:42:10] \"\u001b[36mGET /static/1.jpg HTTP/1.1\u001b[0m\" 304 -\n",
      "/var/folders/8l/tsqqrds50dz690982_j4j8bh0000gn/T/ipykernel_39523/738851247.py:5: FutureWarning: Indexing with multiple keys (implicitly converted to a tuple of keys) will be deprecated, use a list instead.\n",
      "  stat.groupby('Class')['Avail','Limit'].sum().plot.barh(align = 'center', color = ['tab:blue','tab:red'])\n",
      "127.0.0.1 - - [22/Jan/2023 11:42:11] \"GET /history HTTP/1.1\" 200 -\n",
      "/var/folders/8l/tsqqrds50dz690982_j4j8bh0000gn/T/ipykernel_39523/738851247.py:5: FutureWarning: Indexing with multiple keys (implicitly converted to a tuple of keys) will be deprecated, use a list instead.\n",
      "  stat.groupby('Class')['Avail','Limit'].sum().plot.barh(align = 'center', color = ['tab:blue','tab:red'])\n",
      "127.0.0.1 - - [22/Jan/2023 11:47:06] \"GET /history HTTP/1.1\" 200 -\n",
      "127.0.0.1 - - [22/Jan/2023 11:47:07] \"GET / HTTP/1.1\" 200 -\n",
      "127.0.0.1 - - [22/Jan/2023 11:47:07] \"\u001b[36mGET /static/1.jpg HTTP/1.1\u001b[0m\" 304 -\n",
      "127.0.0.1 - - [22/Jan/2023 11:47:07] \"GET /classes HTTP/1.1\" 200 -\n",
      "127.0.0.1 - - [22/Jan/2023 11:47:07] \"\u001b[36mGET /static/photo1.jpg HTTP/1.1\u001b[0m\" 304 -\n",
      "127.0.0.1 - - [22/Jan/2023 11:47:08] \"GET /classes HTTP/1.1\" 200 -\n",
      "127.0.0.1 - - [22/Jan/2023 11:47:08] \"\u001b[36mGET /static/photo1.jpg HTTP/1.1\u001b[0m\" 304 -\n",
      "127.0.0.1 - - [22/Jan/2023 11:47:08] \"\u001b[36mGET /static/photo1.jpg HTTP/1.1\u001b[0m\" 304 -\n"
     ]
    }
   ],
   "source": [
    "if __name__ == '__main__':\n",
    "    app.run(debug=False)"
   ]
  },
  {
   "cell_type": "markdown",
   "id": "5ed960c0",
   "metadata": {},
   "source": []
  }
 ],
 "metadata": {
  "kernelspec": {
   "display_name": "Python 3 (ipykernel)",
   "language": "python",
   "name": "python3"
  },
  "language_info": {
   "codemirror_mode": {
    "name": "ipython",
    "version": 3
   },
   "file_extension": ".py",
   "mimetype": "text/x-python",
   "name": "python",
   "nbconvert_exporter": "python",
   "pygments_lexer": "ipython3",
   "version": "3.11.0"
  }
 },
 "nbformat": 4,
 "nbformat_minor": 5
}
