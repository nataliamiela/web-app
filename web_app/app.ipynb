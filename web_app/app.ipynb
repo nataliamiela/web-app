{
 "cells": [
  {
   "cell_type": "markdown",
   "id": "623c73e5",
   "metadata": {},
   "source": [
    "## Yoga Bookings Web Application built on Flask"
   ]
  },
  {
   "cell_type": "markdown",
   "id": "8905a4bf",
   "metadata": {},
   "source": [
    "first one needs to install Flask via prompt typing: \n",
    "pip install flask\n",
    "\n"
   ]
  },
  {
   "cell_type": "code",
   "execution_count": null,
   "id": "473c97c5",
   "metadata": {},
   "outputs": [],
   "source": [
    "# importing the libraries needed\n",
    "\n",
    "from flask import Flask, render_template, request\n",
    "import sqlite3"
   ]
  },
  {
   "cell_type": "markdown",
   "id": "a444d615",
   "metadata": {},
   "source": [
    "Further we provide screen sample slides with\n",
    "SQL queries functions described. There will be\n",
    "six pages/tabs:\n",
    "- log in/register\n",
    "- my profile\n",
    "- classes\n",
    "- schedule\n",
    "- instructors\n",
    "- workout history"
   ]
  },
  {
   "cell_type": "code",
   "execution_count": null,
   "id": "503a5de1",
   "metadata": {},
   "outputs": [],
   "source": [
    "# first the app object is created \n",
    "\n",
    "app = Flask(__name__)\n",
    "\n",
    "# Next we start creating the subpages of the webapp: \n",
    "# The first page shall contain the registration form for new members\n",
    "\n",
    "\n",
    "def add_member(member_details):\n",
    "    conn = sqlite3.connect('yoga.db')\n",
    "    c = conn.cursor()\n",
    "    sql_string = 'INSERT INTO Members (name, surname, email, year_of_birth, membership, password) VALUES (?,?,?,?,?,?)'\n",
    "    c.execute(sql_string, member_details)\n",
    "    conn.commit()\n",
    "    conn.close()\n",
    "\n",
    "@app.route('/')\n",
    "@app.route('/register/')\n",
    "@app.route('/register', methods = ['GET', 'POST']) \n",
    "def register():\n",
    "    if request.method == \"GET\":\n",
    "        return render_template('register.html') \n",
    "    else:\n",
    "        member_details = (\n",
    "        request.form['name'], \n",
    "        request.form['surname'],\n",
    "        request.form['email'], \n",
    "        request.form['year_of_birth'], \n",
    "        request.form['membership'], \n",
    "        request.form['password'])\n",
    "        add_member(member_details)\n",
    "        return 'Thank you! You have been successfully registered in our Yoga Lab!'  \n",
    "\n",
    "    # method GET allows just to see the page, and POST sends the data to the db\n",
    "\n",
    "\n",
    "\n",
    "@app.route('/login')\n",
    "@app.route('/login/')\n",
    "def login():\n",
    "    pass \n",
    "\n",
    "@app.route('/classes')\n",
    "@app.route('/classes/')\n",
    "def classes():\n",
    "    pass\n",
    "\n",
    "if __name__ == '__main__':\n",
    "    app.run(host='localhost', port=5000, debug=False)\n"
   ]
  },
  {
   "attachments": {},
   "cell_type": "markdown",
   "id": "193d3586",
   "metadata": {},
   "source": []
  }
 ],
 "metadata": {
  "kernelspec": {
   "display_name": "Python 3 (ipykernel)",
   "language": "python",
   "name": "python3"
  },
  "language_info": {
   "codemirror_mode": {
    "name": "ipython",
    "version": 3
   },
   "file_extension": ".py",
   "mimetype": "text/x-python",
   "name": "python",
   "nbconvert_exporter": "python",
   "pygments_lexer": "ipython3",
   "version": "3.9.13"
  }
 },
 "nbformat": 4,
 "nbformat_minor": 5
}
